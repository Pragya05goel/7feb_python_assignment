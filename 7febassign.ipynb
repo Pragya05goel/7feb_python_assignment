{
 "cells": [
  {
   "cell_type": "markdown",
   "id": "8eb2d0c0-a201-4150-b73b-3d1da8d3b559",
   "metadata": {},
   "source": [
    "## ASSIGNMENT"
   ]
  },
  {
   "cell_type": "markdown",
   "id": "e9460734-505e-45aa-bab1-ba421b8afb52",
   "metadata": {},
   "source": [
    "Q1. You are writing code for a company. The requirement of the company is that you create a python\n",
    "function that will check whether the password entered by the user is correct or not. The function should\n",
    "take the password as input and return the string “Valid Password” if the entered password follows the\n",
    "below-given password guidelines else it should return “Invalid Password”.\n",
    "\n",
    "Note: 1. The Password should contain at least two uppercase letters and at least two lowercase letters.\n",
    "\n",
    "2. The Password should contain at least a number and three special characters.\n",
    "\n",
    "3. The length of the password should be 10 characters long."
   ]
  },
  {
   "cell_type": "code",
   "execution_count": 1,
   "id": "991c1858-4352-4ddd-b63a-d4fe352ec79e",
   "metadata": {},
   "outputs": [],
   "source": [
    "def valid_password(s):\n",
    "    spec=\" !#$%&'()*+,-./:;<=>?@[\\]^_`{|}~\"\n",
    "    l=len(s)\n",
    "    low=0\n",
    "    upper=0\n",
    "    num=0\n",
    "    sp=0\n",
    "    f=0\n",
    "    u=0\n",
    "    n=0\n",
    "    ch=0\n",
    "    for i in range(0,l):\n",
    "        if s[i].islower():\n",
    "            low=low+1\n",
    "    if low>=2:\n",
    "        f=1\n",
    "    else:\n",
    "        f=0\n",
    "    \n",
    "    for j in range(0,l):\n",
    "        if s[j].isupper():\n",
    "            upper=upper+1\n",
    "    if upper>=2:\n",
    "        u=1\n",
    "    else:\n",
    "        u=0\n",
    "        \n",
    "    for k in range(0,l):\n",
    "        if s[k].isnumeric():\n",
    "            num=num+1\n",
    "    if num>=1:\n",
    "        n=1\n",
    "    else:\n",
    "        n=0\n",
    "        \n",
    "    for p in range(0,l):\n",
    "        if s[p] in spec:\n",
    "            sp=sp+1\n",
    "    if sp==3:\n",
    "        ch=1\n",
    "    else:\n",
    "        ch=0\n",
    "   \n",
    "    if(f==1 and u==1 and n==1 and ch==1 and l==10):\n",
    "        return \"Valid Password\"\n",
    "    else:\n",
    "        return \"Invalid Password\"\n",
    "    "
   ]
  },
  {
   "cell_type": "code",
   "execution_count": 2,
   "id": "238f49e8-e212-4083-bf3d-5b37f57fcd9d",
   "metadata": {},
   "outputs": [
    {
     "data": {
      "text/plain": [
       "'Valid Password'"
      ]
     },
     "execution_count": 2,
     "metadata": {},
     "output_type": "execute_result"
    }
   ],
   "source": [
    "valid_password(\"prAGR@t!$0\")"
   ]
  },
  {
   "cell_type": "markdown",
   "id": "7bc75b1c-97ec-4684-a8bc-ff49b33698ba",
   "metadata": {},
   "source": [
    "Q2. Solve the below-given questions using at least one of the following:\n",
    "\n",
    "1. Lambda function\n",
    "\n",
    "2. Filter function\n",
    "\n",
    "3. Map function\n",
    "\n",
    "4. List Comprehension"
   ]
  },
  {
   "cell_type": "markdown",
   "id": "1612f348-5a6c-4f5f-9d6b-4efd4f1dad3f",
   "metadata": {},
   "source": [
    "Check if the string starts with a particular letter"
   ]
  },
  {
   "cell_type": "code",
   "execution_count": 3,
   "id": "062c910d-189f-4c1d-a30c-c598a8324ca2",
   "metadata": {},
   "outputs": [
    {
     "data": {
      "text/plain": [
       "'no'"
      ]
     },
     "execution_count": 3,
     "metadata": {},
     "output_type": "execute_result"
    }
   ],
   "source": [
    "## I assumed that particular charachter is \"s\"\n",
    "a=lambda x:\"yes\" if x.startswith(\"s\") else \"no\"\n",
    "a(\"John\")"
   ]
  },
  {
   "cell_type": "markdown",
   "id": "14c9711b-e977-4810-8a61-98964eca10b6",
   "metadata": {},
   "source": [
    "Check if the string is numeric"
   ]
  },
  {
   "cell_type": "code",
   "execution_count": 4,
   "id": "89e496c1-49c7-4ba5-9e00-9988237b2f19",
   "metadata": {},
   "outputs": [
    {
     "data": {
      "text/plain": [
       "'yes'"
      ]
     },
     "execution_count": 4,
     "metadata": {},
     "output_type": "execute_result"
    }
   ],
   "source": [
    "b=lambda x:\"yes\" if x.isnumeric() else \"no\"\n",
    "b(\"12\")"
   ]
  },
  {
   "cell_type": "markdown",
   "id": "2c3f7f21-dc9b-45d9-9fdf-4d2bbff321cd",
   "metadata": {},
   "source": [
    "Sort a list of tuples having fruit names and their quantity. \n",
    "\n",
    "[(\"mango\",99),(\"orange\",80), (\"grapes\", 1000)]"
   ]
  },
  {
   "cell_type": "code",
   "execution_count": 5,
   "id": "d3b4b7bf-60d4-41ca-bb15-ee7c5d53cf9c",
   "metadata": {},
   "outputs": [
    {
     "data": {
      "text/plain": [
       "[('grapes', 1000), ('mango', 99), ('orange', 80)]"
      ]
     },
     "execution_count": 5,
     "metadata": {},
     "output_type": "execute_result"
    }
   ],
   "source": [
    "## In this, sorting is done aplphabatically\n",
    "lst= [(\"mango\",99),(\"orange\",80), (\"grapes\", 1000)]\n",
    "c=lambda x:x.sort()\n",
    "c(lst)\n",
    "lst"
   ]
  },
  {
   "cell_type": "code",
   "execution_count": 6,
   "id": "7b7dbd94-a428-4264-b119-995e142966cc",
   "metadata": {},
   "outputs": [
    {
     "data": {
      "text/plain": [
       "[('orange', 80), ('mango', 99), ('grapes', 1000)]"
      ]
     },
     "execution_count": 6,
     "metadata": {},
     "output_type": "execute_result"
    }
   ],
   "source": [
    "## In this, sorting is done numerically in ascending order\n",
    "lst= [(\"mango\",99),(\"orange\",80), (\"grapes\", 1000)]\n",
    "c=lambda x:x.sort(reverse=True)\n",
    "c(lst)\n",
    "lst"
   ]
  },
  {
   "cell_type": "markdown",
   "id": "77dea155-3330-4e5b-b0be-c4ad70f7b050",
   "metadata": {},
   "source": [
    "Find the squares of numbers from 1 to 10"
   ]
  },
  {
   "cell_type": "code",
   "execution_count": 7,
   "id": "f3a6f9d8-dc60-4ed2-8d8d-88ae17a9a6ea",
   "metadata": {},
   "outputs": [
    {
     "data": {
      "text/plain": [
       "[1, 4, 9, 16, 25, 36, 49, 64, 81, 100]"
      ]
     },
     "execution_count": 7,
     "metadata": {},
     "output_type": "execute_result"
    }
   ],
   "source": [
    "## Using map\n",
    "list(map(lambda x:x*x,range(1,11)))"
   ]
  },
  {
   "cell_type": "code",
   "execution_count": 8,
   "id": "2bc65c53-3efa-4afd-a93d-5f657fb6a0ba",
   "metadata": {},
   "outputs": [
    {
     "data": {
      "text/plain": [
       "[1, 4, 9, 16, 25, 36, 49, 64, 81, 100]"
      ]
     },
     "execution_count": 8,
     "metadata": {},
     "output_type": "execute_result"
    }
   ],
   "source": [
    "## using Lambda\n",
    "sq=lambda x:x*x\n",
    "l=[]\n",
    "for i in range(1,11):\n",
    "    l.append(sq(i))\n",
    "l   "
   ]
  },
  {
   "cell_type": "markdown",
   "id": "84a972f7-11e2-4585-984a-1168ab4fcf24",
   "metadata": {},
   "source": [
    "Find the cube root of numbers from 1 to 10"
   ]
  },
  {
   "cell_type": "code",
   "execution_count": 9,
   "id": "9e4ba654-0353-4400-a8ec-a718f967935a",
   "metadata": {},
   "outputs": [
    {
     "data": {
      "text/plain": [
       "[1.0,\n",
       " 1.2599210498948732,\n",
       " 1.4422495703074083,\n",
       " 1.5874010519681994,\n",
       " 1.7099759466766968,\n",
       " 1.8171205928321397,\n",
       " 1.912931182772389,\n",
       " 2.0,\n",
       " 2.080083823051904,\n",
       " 2.154434690031884]"
      ]
     },
     "execution_count": 9,
     "metadata": {},
     "output_type": "execute_result"
    }
   ],
   "source": [
    "## Using map\n",
    "import math\n",
    "list(map(lambda x:math.pow(x,1/3),range(1,11)))"
   ]
  },
  {
   "cell_type": "code",
   "execution_count": 10,
   "id": "0a182001-0968-4c9d-8e0e-3b361717f697",
   "metadata": {},
   "outputs": [
    {
     "data": {
      "text/plain": [
       "[1.0,\n",
       " 1.2599210498948732,\n",
       " 1.4422495703074083,\n",
       " 1.5874010519681994,\n",
       " 1.7099759466766968,\n",
       " 1.8171205928321397,\n",
       " 1.912931182772389,\n",
       " 2.0,\n",
       " 2.080083823051904,\n",
       " 2.154434690031884]"
      ]
     },
     "execution_count": 10,
     "metadata": {},
     "output_type": "execute_result"
    }
   ],
   "source": [
    "## using lambda\n",
    "import math\n",
    "cube=lambda x:math.pow(x,1/3)\n",
    "\n",
    "l1=[]\n",
    "for i in range(1,11):\n",
    "    l1.append(cube(i))\n",
    "l1 "
   ]
  },
  {
   "cell_type": "markdown",
   "id": "28f041ea-82af-4547-b758-07014f5d92a7",
   "metadata": {},
   "source": [
    "Check if a given number is even"
   ]
  },
  {
   "cell_type": "code",
   "execution_count": 11,
   "id": "0b9bb467-b3f6-4764-84dc-b821655df5b3",
   "metadata": {},
   "outputs": [
    {
     "data": {
      "text/plain": [
       "'even'"
      ]
     },
     "execution_count": 11,
     "metadata": {},
     "output_type": "execute_result"
    }
   ],
   "source": [
    "even_no=lambda x:\"even\" if x%2==0 else \"not even\"\n",
    "even_no(4)"
   ]
  },
  {
   "cell_type": "markdown",
   "id": "527e6444-c952-4557-b0f2-0dd08e1f9118",
   "metadata": {},
   "source": [
    "Filter odd numbers from the given list.\n",
    "\n",
    "[1,2,3,4,5,6,7,8,9,10]"
   ]
  },
  {
   "cell_type": "code",
   "execution_count": 12,
   "id": "7c40b9ad-2545-4fee-b7b7-0ba446d8d486",
   "metadata": {},
   "outputs": [
    {
     "data": {
      "text/plain": [
       "[1, 3, 5, 7, 9]"
      ]
     },
     "execution_count": 12,
     "metadata": {},
     "output_type": "execute_result"
    }
   ],
   "source": [
    "lst1=[1,2,3,4,5,6,7,8,9,10]\n",
    "list(filter(lambda x:x%2!=0,lst1))"
   ]
  },
  {
   "cell_type": "markdown",
   "id": "7ce7fb11-e5f4-45f9-8299-f21b7942d352",
   "metadata": {},
   "source": [
    "Sort a list of integers into positive and negative integers lists.\n",
    "\n",
    "[1,2,3,4,5,6,-1,-2,-3,-4,-5,0]"
   ]
  },
  {
   "cell_type": "code",
   "execution_count": 13,
   "id": "d2bb0001-de85-462e-8ca8-7e1fab86c0ba",
   "metadata": {},
   "outputs": [
    {
     "name": "stdout",
     "output_type": "stream",
     "text": [
      "[1, 2, 3, 4, 5, 6, 0]\n",
      "[-1, -2, -3, -4, -5]\n"
     ]
    }
   ],
   "source": [
    "lst2=[1,2,3,4,5,6,-1,-2,-3,-4,-5,0]\n",
    "pos=list(filter(lambda x:x>=0,lst2))\n",
    "nev=list(filter(lambda x:x<0,lst2))\n",
    "print(pos)\n",
    "print(nev)"
   ]
  },
  {
   "cell_type": "markdown",
   "id": "3a41bd83-3e2c-4a9d-ac39-fa2b7aa133ae",
   "metadata": {},
   "source": [
    "-------------"
   ]
  }
 ],
 "metadata": {
  "kernelspec": {
   "display_name": "Python 3 (ipykernel)",
   "language": "python",
   "name": "python3"
  },
  "language_info": {
   "codemirror_mode": {
    "name": "ipython",
    "version": 3
   },
   "file_extension": ".py",
   "mimetype": "text/x-python",
   "name": "python",
   "nbconvert_exporter": "python",
   "pygments_lexer": "ipython3",
   "version": "3.10.8"
  }
 },
 "nbformat": 4,
 "nbformat_minor": 5
}
